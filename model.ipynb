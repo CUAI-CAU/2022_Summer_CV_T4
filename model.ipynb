{
 "cells": [
  {
   "cell_type": "code",
   "execution_count": null,
   "id": "286ba587",
   "metadata": {
    "scrolled": true
   },
   "outputs": [],
   "source": [
    "import sklearn\n",
    "\n",
    "from sklearn.metrics import accuracy_score\n",
    "from sklearn.metrics import f1_score\n",
    "from sklearn.metrics import precision_score\n",
    "from sklearn.metrics import recall_score\n",
    "from sklearn.metrics import log_loss\n",
    "from sklearn.metrics import confusion_matrix\n",
    "from sklearn.model_selection import train_test_split\n",
    "\n",
    "from torchvision.transforms.functional import to_pil_image\n",
    "from torchvision import models\n",
    "\n",
    "from PIL import Image\n",
    "import torch\n",
    "import torchvision\n",
    "import torchvision.transforms as transforms\n",
    "import torch.nn as nn\n",
    "import torch.optim as optim\n",
    "import torch.nn.functional as F\n",
    "from torch.utils.data import Dataset, DataLoader\n",
    "from torchsummary import summary\n",
    "\n",
    "import torchaudio\n",
    "from tqdm.notebook import trange,tqdm\n",
    "\n",
    "import numpy as np\n",
    "import pandas as pd\n",
    "import os\n",
    "\n",
    "import matplotlib.pyplot as plt\n",
    "import matplotlib\n",
    "%matplotlib inline\n",
    "import soundfile as sf\n",
    "\n",
    "import librosa\n",
    "import librosa.display\n",
    "\n",
    "import wave\n",
    "\n",
    "from torchvision.io import read_image\n",
    "\n",
    "import warnings\n",
    "warnings.filterwarnings('ignore')\n"
   ]
  },
  {
   "cell_type": "code",
   "execution_count": null,
   "id": "5e1a375e",
   "metadata": {},
   "outputs": [],
   "source": [
    "device = (\n",
    "    \"cuda\"\n",
    "    if torch.cuda.is_available()\n",
    "    else \"mps\"\n",
    "    if torch.backends.mps.is_available()\n",
    "    else \"cpu\"\n",
    ")\n",
    "print(f\"Using {device} device\")"
   ]
  },
  {
   "cell_type": "code",
   "execution_count": null,
   "id": "b88293ce",
   "metadata": {},
   "outputs": [],
   "source": [
    "index_df = pd.read_csv(\"index_dataset.csv\", index_col=0)\n",
    "middle_df = pd.read_csv(\"middle_dataset.csv\", index_col=0)\n",
    "ring_df = pd.read_csv(\"ring_dataset.csv\", index_col=0)\n",
    "pinkie_df = pd.read_csv(\"pinkie_dataset.csv\", index_col=0)"
   ]
  },
  {
   "cell_type": "code",
   "execution_count": null,
   "id": "84cd42bc",
   "metadata": {},
   "outputs": [],
   "source": [
    "index_nclass = index_df[\"target\"].nunique()\n",
    "middle_nclass = index_df[\"target\"].nunique()\n",
    "ring_nclass = index_df[\"target\"].nunique()\n",
    "pinkie_ncalss = index_df[\"target\"].nunique()"
   ]
  },
  {
   "cell_type": "code",
   "execution_count": null,
   "id": "c7c72137",
   "metadata": {},
   "outputs": [],
   "source": [
    "index_nclass"
   ]
  },
  {
   "cell_type": "code",
   "execution_count": null,
   "id": "c669c379",
   "metadata": {},
   "outputs": [],
   "source": [
    "index_df[\"target\"].value_counts()"
   ]
  },
  {
   "cell_type": "code",
   "execution_count": null,
   "id": "6fcbdb2a",
   "metadata": {},
   "outputs": [],
   "source": [
    "index_df.info()"
   ]
  },
  {
   "cell_type": "code",
   "execution_count": null,
   "id": "46866e3d",
   "metadata": {},
   "outputs": [],
   "source": [
    "#0~2까지 image, 3은 투명도 관련\n",
    "read_image(index_df.iloc[0][\"path\"])[0:3].size()"
   ]
  },
  {
   "cell_type": "code",
   "execution_count": null,
   "id": "caf5875f",
   "metadata": {},
   "outputs": [],
   "source": [
    "train_index, test_index, _, _ = train_test_split(index_df, index_df['target'], test_size=0.3)\n",
    "train_middle, test_middle, _, _ = train_test_split(middle_df, middle_df['target'], test_size=0.3)\n",
    "train_ring, test_ring, _, _ = train_test_split(ring_df, ring_df['target'], test_size=0.3)\n",
    "train_pinkie, test_pinkie, _, _ = train_test_split(pinkie_df, pinkie_df['target'], test_size=0.3)"
   ]
  },
  {
   "cell_type": "code",
   "execution_count": null,
   "id": "b54028bc",
   "metadata": {},
   "outputs": [],
   "source": [
    "class Guitar_Dataset(Dataset):\n",
    "    def __init__(self, df, transform=None, target_transform=None):\n",
    "        self.df = df\n",
    "        self.transform = transform\n",
    "        self.target_transform = target_transform\n",
    "\n",
    "    def __len__(self):\n",
    "        return len(self.df)\n",
    "\n",
    "    def __getitem__(self, idx):\n",
    "        \n",
    "        img_path = self.df.iloc[idx][\"path\"]\n",
    "        name = self.df.iloc[idx][\"file_name\"].split(\"_\")[0]\n",
    "        \n",
    "        audio = read_image(img_path)[0:3]\n",
    "        audio = to_pil_image(audio)\n",
    "        \n",
    "        image = read_image(\"./2canny_crop_per_tablature_frames/%s/%s\"%(name, self.df.iloc[idx][\"file_name\"]))\n",
    "        image = to_pil_image(image)\n",
    "\n",
    "\n",
    "        label = self.df.iloc[idx][\"target\"]\n",
    "        \n",
    "        if self.transform:\n",
    "            image = self.transform(image)\n",
    "            audio = self.transform(audio)\n",
    "            \n",
    "        \n",
    "        if self.target_transform:\n",
    "            label = self.target_transform(label)\n",
    "\n",
    "        \n",
    "        data = torch.cat((image, audio))\n",
    "        \n",
    "        return data, label"
   ]
  },
  {
   "cell_type": "code",
   "execution_count": null,
   "id": "270275a9",
   "metadata": {},
   "outputs": [],
   "source": [
    "transform = transforms.Compose([\n",
    "    transforms.ToTensor(),\n",
    "    transforms.Resize(size=(224,224)),\n",
    "    transforms.Normalize((0.485, 0.456, 0.406), (0.229, 0.224, 0.225)),\n",
    "])"
   ]
  },
  {
   "cell_type": "code",
   "execution_count": null,
   "id": "fd0f9743",
   "metadata": {},
   "outputs": [],
   "source": [
    "_,_,_ = next(iter(Guitar_Dataset(train_index)))"
   ]
  },
  {
   "cell_type": "code",
   "execution_count": null,
   "id": "6e598412",
   "metadata": {},
   "outputs": [],
   "source": [
    "index_train_dataloader = DataLoader(Guitar_Dataset(train_index, transform), batch_size=4, shuffle=True)\n",
    "index_test_dataloader = DataLoader(Guitar_Dataset(test_index, transform), batch_size=4, shuffle=False)\n",
    "\n",
    "middle_train_dataloader = DataLoader(Guitar_Dataset(train_middle, transform), batch_size=4, shuffle=True)\n",
    "middle_test_dataloader = DataLoader(Guitar_Dataset(test_middle, transform), batch_size=4, shuffle=False)\n",
    "\n",
    "ring_train_dataloader = DataLoader(Guitar_Dataset(train_ring, transform), batch_size=4, shuffle=True)\n",
    "ring_test_dataloader = DataLoader(Guitar_Dataset(test_ring, transform), batch_size=4, shuffle=False)\n",
    "\n",
    "pinkie_train_dataloader = DataLoader(Guitar_Dataset(train_pinkie, transform), batch_size=4, shuffle=True)\n",
    "pinkie_test_dataloader = DataLoader(Guitar_Dataset(test_pinkie, transform), batch_size=4, shuffle=False)"
   ]
  },
  {
   "cell_type": "code",
   "execution_count": null,
   "id": "3a82e1ed",
   "metadata": {},
   "outputs": [],
   "source": [
    "def train_loop(dataloader, model, loss_fn, optimizer):\n",
    "    size = len(dataloader.dataset)\n",
    "    correct_train = 0\n",
    "    for batch, (X, y) in enumerate(dataloader):\n",
    "        # 예측(prediction)과 손실(loss) 계산\n",
    "        X = X.to(\"cuda\")\n",
    "        y = y.to(\"cuda\")\n",
    "\n",
    "        pred = model(X)\n",
    "        loss = loss_fn(pred, y)\n",
    "        \n",
    "        correct_train += (pred.argmax(1) == y).type(torch.float).sum().item()\n",
    "\n",
    "        # 역전파\n",
    "        optimizer.zero_grad()\n",
    "        loss.backward()\n",
    "        optimizer.step()\n",
    "        \n",
    "        \n",
    "\n",
    "        if batch % 3 == 0:\n",
    "            loss, current = loss.item(), (batch + 1) * len(X)\n",
    "            print(f\"loss: {loss:>7f}  [{current:>5d}/{size:>5d}]\")\n",
    "    \n",
    "    correct_train /= size \n",
    "    print(f\"Train Error: \\n Accuracy: {(100*correct_train):>0.1f}%\\n\")\n",
    "    return correct_train \n",
    "\n",
    "\n",
    "def test_loop(dataloader, model, loss_fn):\n",
    "    size = len(dataloader.dataset)\n",
    "    num_batches = len(dataloader)\n",
    "    test_loss = 0\n",
    "    correct_test = 0\n",
    "\n",
    "    with torch.no_grad():\n",
    "        for X, y in dataloader:\n",
    "            X = X.to(\"cuda\")\n",
    "            y = y.to(\"cuda\")\n",
    "            pred = model(X)\n",
    "            #print(pred)\n",
    "            test_loss += loss_fn(pred, y).item()\n",
    "            correct_test += (pred.argmax(1) == y).type(torch.float).sum().item()\n",
    "\n",
    "    test_loss /= num_batches\n",
    "    correct_test /= size\n",
    "    print(f\"Test Error: \\n Accuracy: {(100*correct_test):>0.1f}%, Avg loss: {test_loss:>8f} \\n\")\n",
    "    \n",
    "    return correct_test"
   ]
  },
  {
   "cell_type": "code",
   "execution_count": null,
   "id": "dc9efd48",
   "metadata": {},
   "outputs": [],
   "source": [
    "class ResNet(nn.Module):\n",
    "    def __init__(self, nclass):\n",
    "        super(ResNet, self).__init__()\n",
    "    \n",
    "        self.resnet_image = models.resnet18(pretrained=True)\n",
    "        self.resnet_audio = models.resnet18(pretrained=True)\n",
    "        \n",
    "        self.resnet_image.conv1 = nn.Conv2d(1, 64, kernel_size=7, stride=2, padding=3,\n",
    "                               bias=False)\n",
    "        \n",
    "        num_ftrs = self.resnet_image.fc.in_features\n",
    "        \n",
    "        self.resnet_image = nn.Sequential(nn.Linear(num_ftrs, 256))\n",
    "        self.resnet_audio = nn.Sequential(nn.Linear(num_ftrs, 256))\n",
    "        self.FClayer = nn.Sequential(nn.Linear(512, 256), nn.ReLU(), nn.Dropout(p=0.3),\n",
    "            nn.Linear(256, 128), nn.ReLU(), nn.Dropout(p=0.3),\n",
    "            nn.Linear(128, nclass))\n",
    "\n",
    "        \n",
    "    def forward(self, x):\n",
    "        print(x.shape)\n",
    "        img = self.resnet_image(x[0])\n",
    "        audio = self.resnet_audio(x[1:4])\n",
    "        x = torch.cat((img, audio))\n",
    "        x = self.FClayer(x)\n",
    "        return x"
   ]
  },
  {
   "cell_type": "code",
   "execution_count": null,
   "id": "24e6269c",
   "metadata": {
    "scrolled": true
   },
   "outputs": [],
   "source": [
    "resnet_index = ResNet(ring_nclass).to(\"cuda\")\n",
    "\n",
    "epochs = 100\n",
    "loss_fn = nn.CrossEntropyLoss()\n",
    "optimizer = optim.Adam(resnet_index.parameters(), lr=1e-4)\n",
    "acc_train_list = []\n",
    "acc_test_list = []\n",
    "for t in range(epochs):\n",
    "    print(f\"Epoch {t+1}\\n-------------------------------\")\n",
    "    acc_trian = train_loop(ring_train_dataloader, resnet_index, loss_fn, optimizer)\n",
    "    acc_test = test_loop(ring_test_dataloader, resnet_index, loss_fn)\n",
    "    acc_train_list.append(acc_trian)\n",
    "    acc_test_list.append(acc_test)\n",
    "\n",
    "print(\"Done!\")\n"
   ]
  },
  {
   "cell_type": "code",
   "execution_count": null,
   "id": "d9e63d1d",
   "metadata": {},
   "outputs": [],
   "source": [
    "class Guitar_Dataset(Dataset):\n",
    "    def __init__(self, df, transform=None, target_transform=None):\n",
    "        self.df = df\n",
    "        self.transform = transform\n",
    "        self.target_transform = target_transform\n",
    "\n",
    "    def __len__(self):\n",
    "        return len(self.df)\n",
    "\n",
    "    def __getitem__(self, idx):\n",
    "        \n",
    "        img_path = self.df.iloc[idx][\"path\"]\n",
    "        name = self.df.iloc[idx][\"file_name\"].split(\"_\")[0]\n",
    "        \n",
    "        audio = read_image(img_path)[0:3]\n",
    "        audio = to_pil_image(audio)\n",
    "        \n",
    "        image = read_image(\"./2canny_crop_per_tablature_frames/%s/%s\"%(name, self.df.iloc[idx][\"file_name\"]))\n",
    "        image = to_pil_image(image)\n",
    "\n",
    "\n",
    "        label = self.df.iloc[idx][\"target\"]\n",
    "        \n",
    "        if self.transform:\n",
    "            image = self.transform(image)\n",
    "            audio = self.transform(audio)\n",
    "            \n",
    "        \n",
    "        if self.target_transform:\n",
    "            label = self.target_transform(label)\n",
    "\n",
    "        \n",
    "        data = torch.cat((image, audio))\n",
    "        \n",
    "        return data, label"
   ]
  },
  {
   "cell_type": "code",
   "execution_count": null,
   "id": "c6f8d34d",
   "metadata": {},
   "outputs": [],
   "source": []
  }
 ],
 "metadata": {
  "kernelspec": {
   "display_name": "Python 3 (ipykernel)",
   "language": "python",
   "name": "python3"
  },
  "language_info": {
   "codemirror_mode": {
    "name": "ipython",
    "version": 3
   },
   "file_extension": ".py",
   "mimetype": "text/x-python",
   "name": "python",
   "nbconvert_exporter": "python",
   "pygments_lexer": "ipython3",
   "version": "3.9.12"
  }
 },
 "nbformat": 4,
 "nbformat_minor": 5
}

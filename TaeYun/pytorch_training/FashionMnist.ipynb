{
 "cells": [
  {
   "cell_type": "markdown",
   "id": "00d36a0f",
   "metadata": {},
   "source": [
    "## Data 불러오기"
   ]
  },
  {
   "cell_type": "code",
   "execution_count": 3,
   "id": "0790a8e0",
   "metadata": {},
   "outputs": [],
   "source": [
    "import torch\n",
    "from torch import nn\n",
    "from torch.utils.data import DataLoader\n",
    "from torchvision import datasets\n",
    "from torchvision.transforms import ToTensor\n",
    "\n",
    "# transfrom할 때 Tensor로 무조건 바꾸어 줘야함.\n",
    "training_data = datasets.FashionMNIST(\n",
    "    root=\"data\",\n",
    "    train=True,\n",
    "    download=True,\n",
    "    transform=ToTensor()\n",
    ")\n",
    "\n",
    "test_data = datasets.FashionMNIST(\n",
    "    root=\"data\",\n",
    "    train=False,\n",
    "    download=True,\n",
    "    transform=ToTensor()\n",
    ")"
   ]
  },
  {
   "cell_type": "code",
   "execution_count": 9,
   "id": "cc4a335d",
   "metadata": {
    "scrolled": true
   },
   "outputs": [
    {
     "data": {
      "text/plain": [
       "Dataset FashionMNIST\n",
       "    Number of datapoints: 60000\n",
       "    Root location: data\n",
       "    Split: Train\n",
       "    StandardTransform\n",
       "Transform: ToTensor()"
      ]
     },
     "execution_count": 9,
     "metadata": {},
     "output_type": "execute_result"
    }
   ],
   "source": [
    "training_data"
   ]
  },
  {
   "cell_type": "code",
   "execution_count": 10,
   "id": "f1e946d3",
   "metadata": {},
   "outputs": [
    {
     "data": {
      "text/plain": [
       "937.5"
      ]
     },
     "execution_count": 10,
     "metadata": {},
     "output_type": "execute_result"
    }
   ],
   "source": [
    "60000 / 64"
   ]
  },
  {
   "cell_type": "code",
   "execution_count": 4,
   "id": "a6ba37ec",
   "metadata": {},
   "outputs": [],
   "source": [
    "batch_size = 64\n",
    "\n",
    "train_dataloader = DataLoader(training_data, batch_size=batch_size)\n",
    "test_dataloader = DataLoader(test_data, batch_size=batch_size)"
   ]
  },
  {
   "cell_type": "code",
   "execution_count": 7,
   "id": "1623adea",
   "metadata": {},
   "outputs": [
    {
     "data": {
      "text/plain": [
       "938"
      ]
     },
     "execution_count": 7,
     "metadata": {},
     "output_type": "execute_result"
    }
   ],
   "source": [
    "len(train_dataloader)"
   ]
  },
  {
   "cell_type": "markdown",
   "id": "cb1f6def",
   "metadata": {},
   "source": [
    "## Custom Dataset\n",
    "```python\n",
    "    def __init__(self, annotations_file, img_dir, transform=None, target_transform=None):\n",
    "```\n",
    "* dataloader를 생성할 때 한 번만 실행. 초기화 개념\n",
    "\n",
    "```python\n",
    "    def __len__(self):\n",
    "```\n",
    "* 데이터셋의 샘플 갯수를 반환\n",
    "\n",
    "```python\n",
    "    def __getitem__(self, idx):\n",
    "```\n",
    "* dataloader에서 데이터를 불러오는 부분. index기반으로 load."
   ]
  },
  {
   "cell_type": "code",
   "execution_count": null,
   "id": "ac9f10a6",
   "metadata": {},
   "outputs": [],
   "source": [
    "import os\n",
    "import pandas as pd\n",
    "from torchvision.io import read_image\n",
    "\n",
    "class CustomImageDataset(Dataset):\n",
    "    def __init__(self, annotations_file, img_dir, transform=None, target_transform=None):\n",
    "        \n",
    "        self.img_labels = pd.read_csv(annotations_file, names=['file_name', 'label'])\n",
    "        self.img_dir = img_dir\n",
    "        self.transform = transform\n",
    "        self.target_transform = target_transform\n",
    "\n",
    "    def __len__(self):\n",
    "        return len(self.img_labels)\n",
    "\n",
    "    def __getitem__(self, idx):\n",
    "        #image 경로 불러옴\n",
    "        img_path = os.path.join(self.img_dir, self.img_labels.iloc[idx, 0])\n",
    "        #image를 읽음, data를 불러옴\n",
    "        image = read_image(img_path)\n",
    "        #image에 해당하는 label값, target을 불러옴\n",
    "        label = self.img_labels.iloc[idx, 1]\n",
    "        \n",
    "        #transform을 할 경우\n",
    "        if self.transform:\n",
    "            image = self.transform(image)\n",
    "            \n",
    "        \n",
    "        #target data에 transform을 할 경우\n",
    "        if self.target_transform:\n",
    "            label = self.target_transform(label)\n",
    "            \n",
    "        #image(data)와 label(target)\n",
    "        return image, label"
   ]
  },
  {
   "cell_type": "markdown",
   "id": "35f4750f",
   "metadata": {},
   "source": [
    "## Model"
   ]
  },
  {
   "cell_type": "code",
   "execution_count": 17,
   "id": "e85cb043",
   "metadata": {},
   "outputs": [
    {
     "name": "stdout",
     "output_type": "stream",
     "text": [
      "Using cuda device\n"
     ]
    }
   ],
   "source": [
    "device = (\n",
    "    \"cuda\"\n",
    "    if torch.cuda.is_available()\n",
    "    else \"mps\"\n",
    "    if torch.backends.mps.is_available()\n",
    "    else \"cpu\"\n",
    ")\n",
    "print(f\"Using {device} device\")"
   ]
  },
  {
   "cell_type": "code",
   "execution_count": 18,
   "id": "efd18a79",
   "metadata": {},
   "outputs": [],
   "source": [
    "class NeuralNetwork(nn.Module):\n",
    "    def __init__(self):\n",
    "        #super().__init__()는 무조건 해줘야함\n",
    "        #nn.Module을 상속\n",
    "        #https://daebaq27.tistory.com/60\n",
    "        \n",
    "        super().__init__()\n",
    "        \n",
    "        self.flatten = nn.Flatten()\n",
    "        self.linear_relu_stack = nn.Sequential(\n",
    "            nn.Linear(28*28, 512),\n",
    "            nn.ReLU(),\n",
    "            nn.Linear(512, 512),\n",
    "            nn.ReLU(),\n",
    "            nn.Linear(512, 10)\n",
    "        )\n",
    "\n",
    "    def forward(self, x):\n",
    "        x = self.flatten(x)\n",
    "        logits = self.linear_relu_stack(x)\n",
    "        return logits"
   ]
  },
  {
   "cell_type": "code",
   "execution_count": 20,
   "id": "1c183dab",
   "metadata": {},
   "outputs": [],
   "source": [
    "model = NeuralNetwork().to(device)"
   ]
  },
  {
   "cell_type": "code",
   "execution_count": 29,
   "id": "d426c7e6",
   "metadata": {},
   "outputs": [
    {
     "name": "stdout",
     "output_type": "stream",
     "text": [
      "NeuralNetwork(\n",
      "  (flatten): Flatten(start_dim=1, end_dim=-1)\n",
      "  (linear_relu_stack): Sequential(\n",
      "    (0): Linear(in_features=784, out_features=512, bias=True)\n",
      "    (1): ReLU()\n",
      "    (2): Linear(in_features=512, out_features=512, bias=True)\n",
      "    (3): ReLU()\n",
      "    (4): Linear(in_features=512, out_features=10, bias=True)\n",
      "  )\n",
      ")\n"
     ]
    }
   ],
   "source": [
    "print(model)"
   ]
  },
  {
   "cell_type": "code",
   "execution_count": 21,
   "id": "5c99fda3",
   "metadata": {},
   "outputs": [],
   "source": [
    "loss_fn = nn.CrossEntropyLoss()\n",
    "optimizer = torch.optim.SGD(model.parameters(), lr=1e-3)"
   ]
  },
  {
   "cell_type": "markdown",
   "id": "fb973b76",
   "metadata": {},
   "source": [
    "## Train"
   ]
  },
  {
   "cell_type": "code",
   "execution_count": 22,
   "id": "cae00ada",
   "metadata": {},
   "outputs": [],
   "source": [
    "def train(dataloader, model, loss_fn, optimizer):\n",
    "    size = len(dataloader.dataset)\n",
    "    #X : fashion image, y : target label\n",
    "    for batch, (X, y) in enumerate(dataloader):\n",
    "        X, y = X.to(device), y.to(device)\n",
    "\n",
    "        #model(X) : X를 input으로 했을 때 predict한 값\n",
    "        pred = model(X)\n",
    "        #loss : predict한 값과 실제 label값의 차이\n",
    "        loss = loss_fn(pred, y)\n",
    "\n",
    "        #역전파\n",
    "        optimizer.zero_grad()\n",
    "        loss.backward()\n",
    "        optimizer.step()\n",
    "        \n",
    "        #loss 출력\n",
    "        if batch % 100 == 0:\n",
    "            loss, current = loss.item(), (batch + 1) * len(X)\n",
    "            print(f\"loss: {loss:>7f}  [{current:>5d}/{size:>5d}]\")"
   ]
  },
  {
   "cell_type": "code",
   "execution_count": 23,
   "id": "4f992760",
   "metadata": {},
   "outputs": [],
   "source": [
    "def test(dataloader, model, loss_fn):\n",
    "    size = len(dataloader.dataset)\n",
    "    num_batches = len(dataloader)\n",
    "    model.eval()\n",
    "    test_loss, correct = 0, 0\n",
    "    \n",
    "    with torch.no_grad():\n",
    "        for X, y in dataloader:\n",
    "            X, y = X.to(device), y.to(device)\n",
    "            pred = model(X)\n",
    "            test_loss += loss_fn(pred, y).item()\n",
    "            correct += (pred.argmax(1) == y).type(torch.float).sum().item()\n",
    "    test_loss /= num_batches\n",
    "    correct /= size\n",
    "    print(f\"Test Error: \\n Accuracy: {(100*correct):>0.1f}%, Avg loss: {test_loss:>8f} \\n\")"
   ]
  },
  {
   "cell_type": "code",
   "execution_count": 24,
   "id": "92e573f5",
   "metadata": {},
   "outputs": [
    {
     "name": "stdout",
     "output_type": "stream",
     "text": [
      "Epoch 1\n",
      "-------------------------------\n",
      "loss: 2.319883  [   64/60000]\n",
      "loss: 2.308114  [ 6464/60000]\n",
      "loss: 2.287620  [12864/60000]\n",
      "loss: 2.277103  [19264/60000]\n",
      "loss: 2.259905  [25664/60000]\n",
      "loss: 2.239175  [32064/60000]\n",
      "loss: 2.238439  [38464/60000]\n",
      "loss: 2.208407  [44864/60000]\n",
      "loss: 2.198475  [51264/60000]\n",
      "loss: 2.174596  [57664/60000]\n",
      "Test Error: \n",
      " Accuracy: 36.6%, Avg loss: 2.167862 \n",
      "\n",
      "Epoch 2\n",
      "-------------------------------\n",
      "loss: 2.178892  [   64/60000]\n",
      "loss: 2.174331  [ 6464/60000]\n",
      "loss: 2.111604  [12864/60000]\n",
      "loss: 2.122827  [19264/60000]\n",
      "loss: 2.087337  [25664/60000]\n",
      "loss: 2.030715  [32064/60000]\n",
      "loss: 2.051017  [38464/60000]\n",
      "loss: 1.976904  [44864/60000]\n",
      "loss: 1.970588  [51264/60000]\n",
      "loss: 1.919686  [57664/60000]\n",
      "Test Error: \n",
      " Accuracy: 53.5%, Avg loss: 1.911475 \n",
      "\n",
      "Epoch 3\n",
      "-------------------------------\n",
      "loss: 1.944860  [   64/60000]\n",
      "loss: 1.923946  [ 6464/60000]\n",
      "loss: 1.798850  [12864/60000]\n",
      "loss: 1.832588  [19264/60000]\n",
      "loss: 1.749633  [25664/60000]\n",
      "loss: 1.697824  [32064/60000]\n",
      "loss: 1.711660  [38464/60000]\n",
      "loss: 1.614699  [44864/60000]\n",
      "loss: 1.629749  [51264/60000]\n",
      "loss: 1.544060  [57664/60000]\n",
      "Test Error: \n",
      " Accuracy: 59.5%, Avg loss: 1.551437 \n",
      "\n",
      "Epoch 4\n",
      "-------------------------------\n",
      "loss: 1.617407  [   64/60000]\n",
      "loss: 1.589450  [ 6464/60000]\n",
      "loss: 1.427593  [12864/60000]\n",
      "loss: 1.497269  [19264/60000]\n",
      "loss: 1.397645  [25664/60000]\n",
      "loss: 1.386924  [32064/60000]\n",
      "loss: 1.395365  [38464/60000]\n",
      "loss: 1.317894  [44864/60000]\n",
      "loss: 1.347883  [51264/60000]\n",
      "loss: 1.261094  [57664/60000]\n",
      "Test Error: \n",
      " Accuracy: 62.7%, Avg loss: 1.281153 \n",
      "\n",
      "Epoch 5\n",
      "-------------------------------\n",
      "loss: 1.357004  [   64/60000]\n",
      "loss: 1.344856  [ 6464/60000]\n",
      "loss: 1.168045  [12864/60000]\n",
      "loss: 1.271567  [19264/60000]\n",
      "loss: 1.163182  [25664/60000]\n",
      "loss: 1.183649  [32064/60000]\n",
      "loss: 1.197251  [38464/60000]\n",
      "loss: 1.133838  [44864/60000]\n",
      "loss: 1.168104  [51264/60000]\n",
      "loss: 1.092527  [57664/60000]\n",
      "Test Error: \n",
      " Accuracy: 64.4%, Avg loss: 1.110713 \n",
      "\n",
      "Done!\n"
     ]
    }
   ],
   "source": [
    "epochs = 5\n",
    "for t in range(epochs):\n",
    "    print(f\"Epoch {t+1}\\n-------------------------------\")\n",
    "    train(train_dataloader, model, loss_fn, optimizer)\n",
    "    test(test_dataloader, model, loss_fn)\n",
    "print(\"Done!\")"
   ]
  },
  {
   "cell_type": "code",
   "execution_count": 26,
   "id": "75e3324f",
   "metadata": {},
   "outputs": [
    {
     "name": "stdout",
     "output_type": "stream",
     "text": [
      "Saved PyTorch Model State to model.pth\n"
     ]
    }
   ],
   "source": [
    "torch.save(model.state_dict(), \"model.pth\")\n",
    "print(\"Saved PyTorch Model State to model.pth\")"
   ]
  },
  {
   "cell_type": "code",
   "execution_count": 27,
   "id": "8e67fee0",
   "metadata": {},
   "outputs": [
    {
     "data": {
      "text/plain": [
       "<All keys matched successfully>"
      ]
     },
     "execution_count": 27,
     "metadata": {},
     "output_type": "execute_result"
    }
   ],
   "source": [
    "model = NeuralNetwork().to(device)\n",
    "model.load_state_dict(torch.load(\"model.pth\"))"
   ]
  },
  {
   "cell_type": "code",
   "execution_count": 28,
   "id": "8af0147b",
   "metadata": {},
   "outputs": [
    {
     "name": "stdout",
     "output_type": "stream",
     "text": [
      "Predicted: \"Ankle boot\", Actual: \"Ankle boot\"\n"
     ]
    }
   ],
   "source": [
    "classes = [\n",
    "    \"T-shirt/top\",\n",
    "    \"Trouser\",\n",
    "    \"Pullover\",\n",
    "    \"Dress\",\n",
    "    \"Coat\",\n",
    "    \"Sandal\",\n",
    "    \"Shirt\",\n",
    "    \"Sneaker\",\n",
    "    \"Bag\",\n",
    "    \"Ankle boot\",\n",
    "]\n",
    "\n",
    "model.eval()\n",
    "x, y = test_data[0][0], test_data[0][1]\n",
    "with torch.no_grad():\n",
    "    x = x.to(device)\n",
    "    pred = model(x)\n",
    "    predicted, actual = classes[pred[0].argmax(0)], classes[y]\n",
    "    print(f'Predicted: \"{predicted}\", Actual: \"{actual}\"')"
   ]
  }
 ],
 "metadata": {
  "kernelspec": {
   "display_name": "Python 3 (ipykernel)",
   "language": "python",
   "name": "python3"
  },
  "language_info": {
   "codemirror_mode": {
    "name": "ipython",
    "version": 3
   },
   "file_extension": ".py",
   "mimetype": "text/x-python",
   "name": "python",
   "nbconvert_exporter": "python",
   "pygments_lexer": "ipython3",
   "version": "3.8.16"
  }
 },
 "nbformat": 4,
 "nbformat_minor": 5
}
